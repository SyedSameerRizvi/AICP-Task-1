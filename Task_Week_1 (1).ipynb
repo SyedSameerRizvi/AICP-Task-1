{
  "nbformat": 4,
  "nbformat_minor": 0,
  "metadata": {
    "colab": {
      "provenance": []
    },
    "kernelspec": {
      "name": "python3",
      "display_name": "Python 3"
    },
    "language_info": {
      "name": "python"
    }
  },
  "cells": [
    {
      "cell_type": "markdown",
      "source": [
        "Name: Syed Sameer Rizvi\n",
        "------------------------------\n",
        "AICP Internship Task Week 1\n",
        "-----------------------"
      ],
      "metadata": {
        "id": "yEcFGrLrUxg6"
      }
    },
    {
      "cell_type": "code",
      "source": [
        "import numpy as np"
      ],
      "metadata": {
        "id": "GYGPaLyV0-PD"
      },
      "execution_count": 1,
      "outputs": []
    },
    {
      "cell_type": "markdown",
      "source": [
        "Q1) Write a NumPy program to create an array of all even integers from 30 to 70\n",
        "--------------------------------------------------------------"
      ],
      "metadata": {
        "id": "Fa3zsx8FU9ka"
      }
    },
    {
      "cell_type": "code",
      "execution_count": 31,
      "metadata": {
        "colab": {
          "base_uri": "https://localhost:8080/"
        },
        "id": "FXFUvMunUQVI",
        "outputId": "7f0c4032-7722-41be-be70-e2af70e7a29f"
      },
      "outputs": [
        {
          "output_type": "stream",
          "name": "stdout",
          "text": [
            "[30 32 34 36 38 40 42 44 46 48 50 52 54 56 58 60 62 64 66 68 70]\n"
          ]
        }
      ],
      "source": [
        "arr = np.arange(30,71,2)\n",
        "print(arr)"
      ]
    },
    {
      "cell_type": "markdown",
      "source": [
        "Q2) Write a NumPy program to generate an array of 15 random numbers from a standard normal distribution.\n",
        "---------------------------------------\n"
      ],
      "metadata": {
        "id": "ohUnT_RRWTlb"
      }
    },
    {
      "cell_type": "code",
      "source": [
        "arr = np.random.randn(15)\n",
        "print(arr)"
      ],
      "metadata": {
        "colab": {
          "base_uri": "https://localhost:8080/"
        },
        "id": "1hMZbp_vWpSe",
        "outputId": "bda0acf1-176b-4fcf-cb6e-ae2bbebb43cc"
      },
      "execution_count": 32,
      "outputs": [
        {
          "output_type": "stream",
          "name": "stdout",
          "text": [
            "[-0.45790735 -0.61862214  0.03978283 -0.48119928 -1.08560589 -1.10941197\n",
            "  0.86560821 -0.44856884 -0.60909207  0.12758204  0.11431041 -0.06851046\n",
            " -0.01649015 -0.48769206  1.21927233]\n"
          ]
        }
      ]
    },
    {
      "cell_type": "markdown",
      "source": [
        "Q3) How to compute the cross-product of two matrices in NumPy?\n",
        "-------------------------------------------------------"
      ],
      "metadata": {
        "id": "PzGRtgUIXckU"
      }
    },
    {
      "cell_type": "code",
      "source": [
        "mat_A = np.array([[1,2,3],[4,5,6],[7,8,9]])\n",
        "mat_B = np.array([[1,4,5],[6,3,2],[10,2,3]])\n",
        "mat_C = np.cross(mat_A,mat_B)\n",
        "print(mat_C)"
      ],
      "metadata": {
        "colab": {
          "base_uri": "https://localhost:8080/"
        },
        "id": "_M226yUJXfRN",
        "outputId": "e6db0613-9b53-4389-e401-c0427be2b57d"
      },
      "execution_count": 33,
      "outputs": [
        {
          "output_type": "stream",
          "name": "stdout",
          "text": [
            "[[ -2  -2   2]\n",
            " [ -8  28 -18]\n",
            " [  6  69 -66]]\n"
          ]
        }
      ]
    },
    {
      "cell_type": "markdown",
      "source": [
        "Q4) How to compute the determinant of an array using NumPy?\n",
        "-------------------------------------------------"
      ],
      "metadata": {
        "id": "wz0Skm1MiSED"
      }
    },
    {
      "cell_type": "code",
      "source": [
        "arr = np.array([[1,2],[4,5]])\n",
        "det_arr = np.linalg.det(arr)\n",
        "print(round(det_arr,2))"
      ],
      "metadata": {
        "colab": {
          "base_uri": "https://localhost:8080/"
        },
        "id": "2_0mQTDziRkT",
        "outputId": "4333152b-b4b7-4f20-d614-316d46dcf167"
      },
      "execution_count": 34,
      "outputs": [
        {
          "output_type": "stream",
          "name": "stdout",
          "text": [
            "-3.0\n"
          ]
        }
      ]
    },
    {
      "cell_type": "markdown",
      "source": [
        "Q5) How to create a 3x3x3 array with random values using NumPy?\n",
        "----------------------------------------\n"
      ],
      "metadata": {
        "id": "OCJXhZHPk96u"
      }
    },
    {
      "cell_type": "code",
      "source": [
        "dimensions = (3,3,3)\n",
        "mat_A = np.random.randint(1,15,size=dimensions)\n",
        "print(mat_A)"
      ],
      "metadata": {
        "colab": {
          "base_uri": "https://localhost:8080/"
        },
        "id": "5fA2VDgElXFG",
        "outputId": "df54755c-1f5a-4aaa-da91-fce6e7c5bc37"
      },
      "execution_count": 35,
      "outputs": [
        {
          "output_type": "stream",
          "name": "stdout",
          "text": [
            "[[[14 14  5]\n",
            "  [14  7  9]\n",
            "  [ 9 14  8]]\n",
            "\n",
            " [[ 1  2 13]\n",
            "  [ 4  8  8]\n",
            "  [10  6 11]]\n",
            "\n",
            " [[ 2 12  3]\n",
            "  [12  8  5]\n",
            "  [ 6  8  6]]]\n"
          ]
        }
      ]
    },
    {
      "cell_type": "markdown",
      "source": [
        "Q6) How to create a 5x5 array with random values and find the minimum and maximum values using NumPy?\n",
        "---------------------------------------------"
      ],
      "metadata": {
        "id": "VwedL6IgoRn_"
      }
    },
    {
      "cell_type": "code",
      "source": [
        "dimensions = (5,5)\n",
        "mat_A = np.random.randint(1,25,size=dimensions)\n",
        "print(mat_A)\n",
        "\n",
        "result_1 = np.min(mat_A)\n",
        "print(\"The minimun value is: \",result_1)\n",
        "\n",
        "result_2 = np.max(mat_A)\n",
        "print(\"The maximum value is: \",result_2)"
      ],
      "metadata": {
        "colab": {
          "base_uri": "https://localhost:8080/"
        },
        "id": "wQjh9n8OuCiX",
        "outputId": "68701bfa-8bc2-4578-d51d-d15024cdc5a1"
      },
      "execution_count": 36,
      "outputs": [
        {
          "output_type": "stream",
          "name": "stdout",
          "text": [
            "[[13 15 11  5  1]\n",
            " [ 9 13 15 13 12]\n",
            " [14  5 21 15 17]\n",
            " [ 1 16  5  5 20]\n",
            " [ 9  8 14 21 18]]\n",
            "The minimun value is:  1\n",
            "The maximum value is:  21\n"
          ]
        }
      ]
    },
    {
      "cell_type": "markdown",
      "source": [
        "Q7) How to compute the mean, standard deviation, and variance of a given array along the second axis in NumPy?\n",
        "---------------------------------------------\n",
        "\n"
      ],
      "metadata": {
        "id": "o08WmwUoyeId"
      }
    },
    {
      "cell_type": "code",
      "source": [
        "arr = np.array([[1,4,5],[6,3,2],[10,2,3]])\n",
        "mean_arr = np.mean(arr,axis=1)\n",
        "var_arr = np.var(arr,axis=1)\n",
        "std_arr = np.std(arr,axis=1)\n",
        "\n",
        "print(\"The mean is: \",mean_arr)\n",
        "print(\"The variance is: \",var_arr)\n",
        "print(\"The standard deviation is: \",std_arr)"
      ],
      "metadata": {
        "colab": {
          "base_uri": "https://localhost:8080/"
        },
        "id": "3R6H_G8iyoQb",
        "outputId": "2337f780-791c-48e7-b1a6-7d19b5514f53"
      },
      "execution_count": 37,
      "outputs": [
        {
          "output_type": "stream",
          "name": "stdout",
          "text": [
            "The mean is:  [3.33333333 3.66666667 5.        ]\n",
            "The variance is:  [ 2.88888889  2.88888889 12.66666667]\n",
            "The standard deviation is:  [1.69967317 1.69967317 3.55902608]\n"
          ]
        }
      ]
    }
  ]
}